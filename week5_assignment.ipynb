{
 "cells": [
  {
   "cell_type": "markdown",
   "metadata": {},
   "source": [
    "## Title: Extracting Data from XML\n",
    "### Author: Meenakshi Parameshwaran\n",
    "### Date: 04/04/16\n",
    "\n",
    "Note that this assigment was written in Python 3."
   ]
  },
  {
   "cell_type": "markdown",
   "metadata": {},
   "source": [
    "In this assignment you will write a Python program somewhat similar to http://www.pythonlearn.com/code/geoxml.py. The program will prompt for a URL, read the XML data from that URL using urllib and then parse and extract the comment counts from the XML data, compute the sum of the numbers in the file.\n",
    "\n",
    "We provide two files for this assignment. One is a sample file where we give you the sum for your testing and the other is the actual data you need to process for the assignment.\n",
    "\n",
    "Sample data: http://python-data.dr-chuck.net/comments_42.xml (Sum=2553)\n",
    "\n",
    "Actual data: http://python-data.dr-chuck.net/comments_168482.xml (Sum ends with 46)\n",
    "\n",
    "You do not need to save these files to your folder since your program will read the data directly from the URL. \n",
    "\n",
    "**Data Format and Approach**\n",
    "\n",
    "The data consists of a number of names and comment counts in XML as follows:\n",
    "\n",
    "`<comment>\n",
    "    <name>Matthias</name>\n",
    "    <count>97</count>\n",
    "</comment>`\n",
    "\n",
    "You are to look through all the `<comment>` tags and find the `<count>` values, then sum the numbers. The closest sample code that shows how to parse XML is geoxml.py. But since the nesting of the elements in our data is different than the data we are parsing in that sample code you will have to make real changes to the code.\n",
    "To make the code a little simpler, you can use an XPath selector string to look through the entire tree of XML for any tag named 'count' with the following line of code:\n",
    "\n",
    "`counts = tree.findall('.//count')`\n",
    "\n",
    "Take a look at the Python ElementTree documentation and look for the supported XPath syntax for details. You could also work from the top of the XML down to the comments node and then loop through the child nodes of the comments node.\n",
    "\n",
    "\n",
    "**Sample Execution**\n",
    "\n",
    "`\n",
    "$ python solution.py \n",
    "Enter location: http://python-data.dr-chuck.net/comments_42.xml\n",
    "Retrieving http://python-data.dr-chuck.net/comments_42.xml\n",
    "Retrieved 4204 characters\n",
    "Count: 50\n",
    "Sum: 2482\n",
    "`"
   ]
  },
  {
   "cell_type": "code",
   "execution_count": 54,
   "metadata": {
    "collapsed": true
   },
   "outputs": [],
   "source": [
    "import urllib\n",
    "import xml.etree.ElementTree as ET"
   ]
  },
  {
   "cell_type": "code",
   "execution_count": 55,
   "metadata": {
    "collapsed": false
   },
   "outputs": [
    {
     "name": "stdout",
     "output_type": "stream",
     "text": [
      "Enter location: http://python-data.dr-chuck.net/comments_42.xml\n",
      "Retrieving http://python-data.dr-chuck.net/comments_42.xml\n",
      "Retrieved 4189 characters\n",
      "Count of comments: 50\n",
      "Sum: 2553\n",
      "Enter location: http://python-data.dr-chuck.net/comments_168482.xml\n",
      "Retrieving http://python-data.dr-chuck.net/comments_168482.xml\n",
      "Retrieved 4216 characters\n",
      "Count of comments: 50\n",
      "Sum: 2346\n",
      "Enter location: \n"
     ]
    }
   ],
   "source": [
    "while True:\n",
    "    address = input('Enter location: ')\n",
    "    if len(address) < 1 : break\n",
    "\n",
    "    url = address\n",
    "    print ('Retrieving', url)\n",
    "    \n",
    "    uh = urllib.request.urlopen(url)\n",
    "    data = uh.read()\n",
    "    print ('Retrieved',len(data),'characters')\n",
    "\n",
    "    tree = ET.fromstring(data)\n",
    "    comments = tree.findall('comments/comment')\n",
    "    print('Count of comments:', len(comments))    \n",
    "\n",
    "    mycounts = list()\n",
    "    \n",
    "    for item in comments:\n",
    "        mycounts.append(item.find('count').text)\n",
    "\n",
    "    mycounts_int = list(map(int, mycounts))\n",
    "    print('Sum:', sum(mycounts_int))"
   ]
  }
 ],
 "metadata": {
  "kernelspec": {
   "display_name": "Python 3",
   "language": "python",
   "name": "python3"
  },
  "language_info": {
   "codemirror_mode": {
    "name": "ipython",
    "version": 3
   },
   "file_extension": ".py",
   "mimetype": "text/x-python",
   "name": "python",
   "nbconvert_exporter": "python",
   "pygments_lexer": "ipython3",
   "version": "3.4.4"
  }
 },
 "nbformat": 4,
 "nbformat_minor": 0
}
