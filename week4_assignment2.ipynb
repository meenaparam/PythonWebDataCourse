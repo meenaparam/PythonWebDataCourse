{
 "cells": [
  {
   "cell_type": "markdown",
   "metadata": {},
   "source": [
    "## Title: Week 4 assignment 2 - parsing HTML using BeautifulSoup\n",
    "### Author: Meenakshi Parameshwaran\n",
    "### Date: 31/03/16"
   ]
  },
  {
   "cell_type": "markdown",
   "metadata": {},
   "source": [
    "### More parsing of HTML using BeautifulSoup\n",
    "\n",
    "In this assignment you will write a Python program that expands on http://www.pythonlearn.com/code/urllinks.py. The program will use urllib to read the HTML from the data files below, extract the href= vaues from the anchor tags, scan for a tag that is in a particular position relative to the first name in the list, follow that link and repeat the process a number of times and report the last name you find.\n",
    "\n",
    "**I did this assignment in Python 3.4**"
   ]
  },
  {
   "cell_type": "code",
   "execution_count": 89,
   "metadata": {
    "collapsed": true
   },
   "outputs": [],
   "source": [
    "# %load urllinks.py - use this to load in a .py to .ipynb"
   ]
  },
  {
   "cell_type": "code",
   "execution_count": 90,
   "metadata": {
    "collapsed": false
   },
   "outputs": [],
   "source": [
    "import urllib\n",
    "from bs4 import BeautifulSoup"
   ]
  },
  {
   "cell_type": "code",
   "execution_count": 91,
   "metadata": {
    "collapsed": false
   },
   "outputs": [
    {
     "name": "stdout",
     "output_type": "stream",
     "text": [
      "Enter URL: http://python-data.dr-chuck.net/known_by_Alecia.html \n",
      "Enter count: 7\n",
      "Enter position: 18\n"
     ]
    }
   ],
   "source": [
    "url = input('Enter URL: ')\n",
    "count = int(input('Enter count: '))\n",
    "position = int(input('Enter position: '))"
   ]
  },
  {
   "cell_type": "code",
   "execution_count": 92,
   "metadata": {
    "collapsed": false
   },
   "outputs": [],
   "source": [
    "myhtml = urllib.request.urlopen(url).read()\n",
    "soup = BeautifulSoup(myhtml, \"lxml\")"
   ]
  },
  {
   "cell_type": "code",
   "execution_count": 93,
   "metadata": {
    "collapsed": false,
    "scrolled": false
   },
   "outputs": [],
   "source": [
    "mytags = list()\n",
    "\n",
    "# Retrieve all of the anchor tags\n",
    "tags = soup('a')\n",
    "for tag in tags:\n",
    "    # Look at the parts of a tag\n",
    "    # print ('TAG:',tag) # keep this in, shows the full TAG\n",
    "    # print (tag.get('href', None))\n",
    "    mytags.append(tag.get('href', None))   "
   ]
  },
  {
   "cell_type": "code",
   "execution_count": 94,
   "metadata": {
    "collapsed": false
   },
   "outputs": [
    {
     "name": "stdout",
     "output_type": "stream",
     "text": [
      "1\n",
      "Retrieving: http://python-data.dr-chuck.net/known_by_Janelle.html\n",
      "2\n",
      "Retrieving: http://python-data.dr-chuck.net/known_by_Keerah.html\n",
      "3\n",
      "Retrieving: http://python-data.dr-chuck.net/known_by_Mila.html\n",
      "4\n",
      "Retrieving: http://python-data.dr-chuck.net/known_by_Kogan.html\n",
      "5\n",
      "Retrieving: http://python-data.dr-chuck.net/known_by_Kathryn.html\n",
      "6\n",
      "Retrieving: http://python-data.dr-chuck.net/known_by_Kiya.html\n",
      "7\n",
      "Retrieving: http://python-data.dr-chuck.net/known_by_Raegan.html\n"
     ]
    }
   ],
   "source": [
    "for c in range(count):\n",
    "    print(c+1)\n",
    "    nexturl = mytags[position-1]\n",
    "    print('Retrieving:', nexturl)\n",
    "    nexthtml = urllib.request.urlopen(nexturl).read()\n",
    "    soup = BeautifulSoup(nexthtml, \"lxml\")\n",
    "    mytags = list()\n",
    "    tags = soup('a')\n",
    "    for tag in tags:\n",
    "        # Look at the parts of a tag\n",
    "        # print (tag.get('href', None))\n",
    "        mytags.append(tag.get('href', None))"
   ]
  }
 ],
 "metadata": {
  "kernelspec": {
   "display_name": "Python 3",
   "language": "python",
   "name": "python3"
  },
  "language_info": {
   "codemirror_mode": {
    "name": "ipython",
    "version": 3
   },
   "file_extension": ".py",
   "mimetype": "text/x-python",
   "name": "python",
   "nbconvert_exporter": "python",
   "pygments_lexer": "ipython3",
   "version": "3.4.4"
  }
 },
 "nbformat": 4,
 "nbformat_minor": 0
}
