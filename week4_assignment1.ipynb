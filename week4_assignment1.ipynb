{
 "cells": [
  {
   "cell_type": "markdown",
   "metadata": {},
   "source": [
    "## Title: Week 4 assignment 1 - parsing HTML using BeautifulSoup\n",
    "### Author: Meenakshi Parameshwaran\n",
    "### Date: 31/03/16"
   ]
  },
  {
   "cell_type": "markdown",
   "metadata": {},
   "source": [
    "### Scraping Numbers from HTML using BeautifulSoup.\n",
    "\n",
    "In this assignment you will write a Python program similar to http://www.pythonlearn.com/code/urllink2.py. The program will use urllib to read the HTML from the data files below, and parse the data, extracting numbers and compute the sum of the numbers in the file.\n",
    "\n",
    "**I did this assignment in Python 3.4**"
   ]
  },
  {
   "cell_type": "code",
   "execution_count": 36,
   "metadata": {
    "collapsed": true
   },
   "outputs": [],
   "source": [
    "# %load week4_assignment1.py - use this to load in a .py to .ipynb"
   ]
  },
  {
   "cell_type": "code",
   "execution_count": 37,
   "metadata": {
    "collapsed": false
   },
   "outputs": [],
   "source": [
    "import urllib\n",
    "from bs4 import BeautifulSoup"
   ]
  },
  {
   "cell_type": "code",
   "execution_count": 38,
   "metadata": {
    "collapsed": false
   },
   "outputs": [
    {
     "name": "stdout",
     "output_type": "stream",
     "text": [
      "Enter - http://python-data.dr-chuck.net/comments_168485.html\n"
     ]
    }
   ],
   "source": [
    "url = input('Enter - ')"
   ]
  },
  {
   "cell_type": "code",
   "execution_count": 39,
   "metadata": {
    "collapsed": false
   },
   "outputs": [],
   "source": [
    "myhtml = urllib.request.urlopen(url).read()\n",
    "soup = BeautifulSoup(myhtml, \"lxml\")"
   ]
  },
  {
   "cell_type": "code",
   "execution_count": 40,
   "metadata": {
    "collapsed": false,
    "scrolled": false
   },
   "outputs": [
    {
     "name": "stdout",
     "output_type": "stream",
     "text": [
      "TAG: <span class=\"comments\">100</span>\n",
      "CLASS: ['comments']\n",
      "Comments: 100\n",
      "Attrs: {'class': ['comments']}\n",
      "TAG: <span class=\"comments\">98</span>\n",
      "CLASS: ['comments']\n",
      "Comments: 98\n",
      "Attrs: {'class': ['comments']}\n",
      "TAG: <span class=\"comments\">96</span>\n",
      "CLASS: ['comments']\n",
      "Comments: 96\n",
      "Attrs: {'class': ['comments']}\n",
      "TAG: <span class=\"comments\">93</span>\n",
      "CLASS: ['comments']\n",
      "Comments: 93\n",
      "Attrs: {'class': ['comments']}\n",
      "TAG: <span class=\"comments\">92</span>\n",
      "CLASS: ['comments']\n",
      "Comments: 92\n",
      "Attrs: {'class': ['comments']}\n",
      "TAG: <span class=\"comments\">88</span>\n",
      "CLASS: ['comments']\n",
      "Comments: 88\n",
      "Attrs: {'class': ['comments']}\n",
      "TAG: <span class=\"comments\">88</span>\n",
      "CLASS: ['comments']\n",
      "Comments: 88\n",
      "Attrs: {'class': ['comments']}\n",
      "TAG: <span class=\"comments\">87</span>\n",
      "CLASS: ['comments']\n",
      "Comments: 87\n",
      "Attrs: {'class': ['comments']}\n",
      "TAG: <span class=\"comments\">82</span>\n",
      "CLASS: ['comments']\n",
      "Comments: 82\n",
      "Attrs: {'class': ['comments']}\n",
      "TAG: <span class=\"comments\">82</span>\n",
      "CLASS: ['comments']\n",
      "Comments: 82\n",
      "Attrs: {'class': ['comments']}\n",
      "TAG: <span class=\"comments\">81</span>\n",
      "CLASS: ['comments']\n",
      "Comments: 81\n",
      "Attrs: {'class': ['comments']}\n",
      "TAG: <span class=\"comments\">78</span>\n",
      "CLASS: ['comments']\n",
      "Comments: 78\n",
      "Attrs: {'class': ['comments']}\n",
      "TAG: <span class=\"comments\">77</span>\n",
      "CLASS: ['comments']\n",
      "Comments: 77\n",
      "Attrs: {'class': ['comments']}\n",
      "TAG: <span class=\"comments\">77</span>\n",
      "CLASS: ['comments']\n",
      "Comments: 77\n",
      "Attrs: {'class': ['comments']}\n",
      "TAG: <span class=\"comments\">75</span>\n",
      "CLASS: ['comments']\n",
      "Comments: 75\n",
      "Attrs: {'class': ['comments']}\n",
      "TAG: <span class=\"comments\">72</span>\n",
      "CLASS: ['comments']\n",
      "Comments: 72\n",
      "Attrs: {'class': ['comments']}\n",
      "TAG: <span class=\"comments\">69</span>\n",
      "CLASS: ['comments']\n",
      "Comments: 69\n",
      "Attrs: {'class': ['comments']}\n",
      "TAG: <span class=\"comments\">68</span>\n",
      "CLASS: ['comments']\n",
      "Comments: 68\n",
      "Attrs: {'class': ['comments']}\n",
      "TAG: <span class=\"comments\">66</span>\n",
      "CLASS: ['comments']\n",
      "Comments: 66\n",
      "Attrs: {'class': ['comments']}\n",
      "TAG: <span class=\"comments\">63</span>\n",
      "CLASS: ['comments']\n",
      "Comments: 63\n",
      "Attrs: {'class': ['comments']}\n",
      "TAG: <span class=\"comments\">62</span>\n",
      "CLASS: ['comments']\n",
      "Comments: 62\n",
      "Attrs: {'class': ['comments']}\n",
      "TAG: <span class=\"comments\">54</span>\n",
      "CLASS: ['comments']\n",
      "Comments: 54\n",
      "Attrs: {'class': ['comments']}\n",
      "TAG: <span class=\"comments\">52</span>\n",
      "CLASS: ['comments']\n",
      "Comments: 52\n",
      "Attrs: {'class': ['comments']}\n",
      "TAG: <span class=\"comments\">51</span>\n",
      "CLASS: ['comments']\n",
      "Comments: 51\n",
      "Attrs: {'class': ['comments']}\n",
      "TAG: <span class=\"comments\">48</span>\n",
      "CLASS: ['comments']\n",
      "Comments: 48\n",
      "Attrs: {'class': ['comments']}\n",
      "TAG: <span class=\"comments\">46</span>\n",
      "CLASS: ['comments']\n",
      "Comments: 46\n",
      "Attrs: {'class': ['comments']}\n",
      "TAG: <span class=\"comments\">45</span>\n",
      "CLASS: ['comments']\n",
      "Comments: 45\n",
      "Attrs: {'class': ['comments']}\n",
      "TAG: <span class=\"comments\">44</span>\n",
      "CLASS: ['comments']\n",
      "Comments: 44\n",
      "Attrs: {'class': ['comments']}\n",
      "TAG: <span class=\"comments\">37</span>\n",
      "CLASS: ['comments']\n",
      "Comments: 37\n",
      "Attrs: {'class': ['comments']}\n",
      "TAG: <span class=\"comments\">34</span>\n",
      "CLASS: ['comments']\n",
      "Comments: 34\n",
      "Attrs: {'class': ['comments']}\n",
      "TAG: <span class=\"comments\">32</span>\n",
      "CLASS: ['comments']\n",
      "Comments: 32\n",
      "Attrs: {'class': ['comments']}\n",
      "TAG: <span class=\"comments\">28</span>\n",
      "CLASS: ['comments']\n",
      "Comments: 28\n",
      "Attrs: {'class': ['comments']}\n",
      "TAG: <span class=\"comments\">28</span>\n",
      "CLASS: ['comments']\n",
      "Comments: 28\n",
      "Attrs: {'class': ['comments']}\n",
      "TAG: <span class=\"comments\">24</span>\n",
      "CLASS: ['comments']\n",
      "Comments: 24\n",
      "Attrs: {'class': ['comments']}\n",
      "TAG: <span class=\"comments\">23</span>\n",
      "CLASS: ['comments']\n",
      "Comments: 23\n",
      "Attrs: {'class': ['comments']}\n",
      "TAG: <span class=\"comments\">21</span>\n",
      "CLASS: ['comments']\n",
      "Comments: 21\n",
      "Attrs: {'class': ['comments']}\n",
      "TAG: <span class=\"comments\">19</span>\n",
      "CLASS: ['comments']\n",
      "Comments: 19\n",
      "Attrs: {'class': ['comments']}\n",
      "TAG: <span class=\"comments\">17</span>\n",
      "CLASS: ['comments']\n",
      "Comments: 17\n",
      "Attrs: {'class': ['comments']}\n",
      "TAG: <span class=\"comments\">16</span>\n",
      "CLASS: ['comments']\n",
      "Comments: 16\n",
      "Attrs: {'class': ['comments']}\n",
      "TAG: <span class=\"comments\">16</span>\n",
      "CLASS: ['comments']\n",
      "Comments: 16\n",
      "Attrs: {'class': ['comments']}\n",
      "TAG: <span class=\"comments\">15</span>\n",
      "CLASS: ['comments']\n",
      "Comments: 15\n",
      "Attrs: {'class': ['comments']}\n",
      "TAG: <span class=\"comments\">14</span>\n",
      "CLASS: ['comments']\n",
      "Comments: 14\n",
      "Attrs: {'class': ['comments']}\n",
      "TAG: <span class=\"comments\">14</span>\n",
      "CLASS: ['comments']\n",
      "Comments: 14\n",
      "Attrs: {'class': ['comments']}\n",
      "TAG: <span class=\"comments\">13</span>\n",
      "CLASS: ['comments']\n",
      "Comments: 13\n",
      "Attrs: {'class': ['comments']}\n",
      "TAG: <span class=\"comments\">11</span>\n",
      "CLASS: ['comments']\n",
      "Comments: 11\n",
      "Attrs: {'class': ['comments']}\n",
      "TAG: <span class=\"comments\">9</span>\n",
      "CLASS: ['comments']\n",
      "Comments: 9\n",
      "Attrs: {'class': ['comments']}\n",
      "TAG: <span class=\"comments\">8</span>\n",
      "CLASS: ['comments']\n",
      "Comments: 8\n",
      "Attrs: {'class': ['comments']}\n",
      "TAG: <span class=\"comments\">8</span>\n",
      "CLASS: ['comments']\n",
      "Comments: 8\n",
      "Attrs: {'class': ['comments']}\n",
      "TAG: <span class=\"comments\">5</span>\n",
      "CLASS: ['comments']\n",
      "Comments: 5\n",
      "Attrs: {'class': ['comments']}\n",
      "TAG: <span class=\"comments\">1</span>\n",
      "CLASS: ['comments']\n",
      "Comments: 1\n",
      "Attrs: {'class': ['comments']}\n"
     ]
    }
   ],
   "source": [
    "mycomments = list()\n",
    "\n",
    "# Retrieve all of the span tags\n",
    "tags = soup('span')\n",
    "for tag in tags:\n",
    "    # Look at the parts of a tag\n",
    "    print ('TAG:',tag) # keep this in, shows the full TAG\n",
    "    print ('CLASS:',tag.get('class', None))\n",
    "    print ('Comments:',tag.contents[0])\n",
    "    print ('Attrs:',tag.attrs)\n",
    "    mycomments.append(tag.contents[0])\n",
    "    "
   ]
  },
  {
   "cell_type": "code",
   "execution_count": 41,
   "metadata": {
    "collapsed": false
   },
   "outputs": [
    {
     "name": "stdout",
     "output_type": "stream",
     "text": [
      "['100', '98', '96', '93', '92', '88', '88', '87', '82', '82', '81', '78', '77', '77', '75', '72', '69', '68', '66', '63', '62', '54', '52', '51', '48', '46', '45', '44', '37', '34', '32', '28', '28', '24', '23', '21', '19', '17', '16', '16', '15', '14', '14', '13', '11', '9', '8', '8', '5', '1']\n"
     ]
    }
   ],
   "source": [
    "print(mycomments)"
   ]
  },
  {
   "cell_type": "code",
   "execution_count": 42,
   "metadata": {
    "collapsed": true
   },
   "outputs": [],
   "source": [
    "# convert the list mycomments into integers\n",
    "mycomments_int = list(map(int, mycomments))"
   ]
  },
  {
   "cell_type": "code",
   "execution_count": 43,
   "metadata": {
    "collapsed": false
   },
   "outputs": [
    {
     "name": "stdout",
     "output_type": "stream",
     "text": [
      "Count: 50\n",
      "Sum: 2427\n"
     ]
    }
   ],
   "source": [
    "print(\"Count:\", len(mycomments_int))\n",
    "print(\"Sum:\", sum(mycomments_int))"
   ]
  }
 ],
 "metadata": {
  "kernelspec": {
   "display_name": "Python 3",
   "language": "python",
   "name": "python3"
  },
  "language_info": {
   "codemirror_mode": {
    "name": "ipython",
    "version": 3
   },
   "file_extension": ".py",
   "mimetype": "text/x-python",
   "name": "python",
   "nbconvert_exporter": "python",
   "pygments_lexer": "ipython3",
   "version": "3.4.4"
  }
 },
 "nbformat": 4,
 "nbformat_minor": 0
}
